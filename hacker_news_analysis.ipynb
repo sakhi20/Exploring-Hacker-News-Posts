{
 "cells": [
  {
   "cell_type": "markdown",
   "metadata": {
    "tags": []
   },
   "source": [
    "Exploring Hacker News Posts"
   ]
  },
  {
   "cell_type": "code",
   "execution_count": 3,
   "metadata": {},
   "outputs": [
    {
     "name": "stdout",
     "output_type": "stream",
     "text": [
      "['id', 'title', 'url', 'num_points', 'num_comments', 'author', 'created_at']\n",
      "['12224879', 'Interactive Dynamic Video', 'http://www.interactivedynamicvideo.com/', '386', '52', 'ne0phyte', '8/4/2016 11:52']\n",
      "['10975351', 'How to Use Open Source and Shut the Fuck Up at the Same Time', 'http://hueniverse.com/2016/01/26/how-to-use-open-source-and-shut-the-fuck-up-at-the-same-time/', '39', '10', 'josep2', '1/26/2016 19:30']\n",
      "['11964716', \"Florida DJs May Face Felony for April Fools' Water Joke\", 'http://www.thewire.com/entertainment/2013/04/florida-djs-april-fools-water-joke/63798/', '2', '1', 'vezycash', '6/23/2016 22:20']\n",
      "['11919867', 'Technology ventures: From Idea to Enterprise', 'https://www.amazon.com/Technology-Ventures-Enterprise-Thomas-Byers/dp/0073523429', '3', '1', 'hswarna', '6/17/2016 0:01']\n"
     ]
    }
   ],
   "source": [
    "import csv\n",
    "\n",
    "# Open the file and read it into a list of lists\n",
    "with open('hacker_news.csv', encoding='utf8') as file:\n",
    "    reader = csv.reader(file)\n",
    "    hn = list(reader)\n",
    "\n",
    "# Display the first 5 rows\n",
    "for row in hn[:5]:\n",
    "    print(row)"
   ]
  },
  {
   "cell_type": "code",
   "execution_count": 4,
   "metadata": {},
   "outputs": [
    {
     "name": "stdout",
     "output_type": "stream",
     "text": [
      "['id', 'title', 'url', 'num_points', 'num_comments', 'author', 'created_at']\n",
      "['12224879', 'Interactive Dynamic Video', 'http://www.interactivedynamicvideo.com/', '386', '52', 'ne0phyte', '8/4/2016 11:52']\n",
      "['10975351', 'How to Use Open Source and Shut the Fuck Up at the Same Time', 'http://hueniverse.com/2016/01/26/how-to-use-open-source-and-shut-the-fuck-up-at-the-same-time/', '39', '10', 'josep2', '1/26/2016 19:30']\n",
      "['11964716', \"Florida DJs May Face Felony for April Fools' Water Joke\", 'http://www.thewire.com/entertainment/2013/04/florida-djs-april-fools-water-joke/63798/', '2', '1', 'vezycash', '6/23/2016 22:20']\n",
      "['11919867', 'Technology ventures: From Idea to Enterprise', 'https://www.amazon.com/Technology-Ventures-Enterprise-Thomas-Byers/dp/0073523429', '3', '1', 'hswarna', '6/17/2016 0:01']\n",
      "['10301696', 'Note by Note: The Making of Steinway L1037 (2007)', 'http://www.nytimes.com/2007/11/07/movies/07stein.html?_r=0', '8', '2', 'walterbell', '9/30/2015 4:12']\n"
     ]
    }
   ],
   "source": [
    "# Extract the first row (header) and assign to headers\n",
    "headers = hn[0]\n",
    "\n",
    "# Remove the header row from hn\n",
    "hn = hn[1:]\n",
    "\n",
    "# Display the headers\n",
    "print(headers)\n",
    "\n",
    "# Display the first 5 rows to verify\n",
    "for row in hn[:5]:\n",
    "    print(row)"
   ]
  },
  {
   "cell_type": "code",
   "execution_count": 5,
   "metadata": {},
   "outputs": [
    {
     "name": "stdout",
     "output_type": "stream",
     "text": [
      "Number of Ask HN posts: 1744\n",
      "Number of Show HN posts: 1162\n",
      "Number of Other posts: 17194\n"
     ]
    }
   ],
   "source": [
    "# Create empty lists\n",
    "ask_posts = []\n",
    "show_posts = []\n",
    "other_posts = []\n",
    "\n",
    "# Loop through each row in hn\n",
    "for row in hn:\n",
    "    title = row[1].lower()  # Convert the title to lowercase for case-insensitive comparison\n",
    "    if title.startswith('ask hn'):\n",
    "        ask_posts.append(row)\n",
    "    elif title.startswith('show hn'):\n",
    "        show_posts.append(row)\n",
    "    else:\n",
    "        other_posts.append(row)\n",
    "\n",
    "# Check number of posts in each list\n",
    "print(\"Number of Ask HN posts:\", len(ask_posts))\n",
    "print(\"Number of Show HN posts:\", len(show_posts))\n",
    "print(\"Number of Other posts:\", len(other_posts))"
   ]
  },
  {
   "cell_type": "code",
   "execution_count": 5,
   "metadata": {},
   "outputs": [
    {
     "name": "stdout",
     "output_type": "stream",
     "text": [
      "Average number of comments on ask posts: 14.038417431192661\n",
      "Average number of comments on show posts: 10.31669535283993\n"
     ]
    }
   ],
   "source": [
    "# Total number of comments in ask posts\n",
    "total_ask_comments = 0\n",
    "for post in ask_posts:\n",
    "    total_ask_comments += int(post[4])\n",
    "    \n",
    "# Average ask comments\n",
    "avg_ask_comments = total_ask_comments / len(ask_posts)\n",
    "print(\"Average number of comments on ask posts:\", avg_ask_comments)\n",
    "\n",
    "# Total number of comments in show posts\n",
    "total_show_comments = 0\n",
    "for post in show_posts:\n",
    "    total_show_comments += int(post[4])\n",
    "    \n",
    "# Average ask comments\n",
    "avg_show_comments = total_show_comments / len(show_posts)\n",
    "print(\"Average number of comments on show posts:\", avg_show_comments)"
   ]
  },
  {
   "cell_type": "markdown",
   "metadata": {},
   "source": [
    "Do Ask HN or Show HN Posts Receive More Comments?\n",
    "\n",
    "After calculating the average number of comments:\n",
    "Ask HN posts receive approximately 14.04 comments on average\n",
    "Show HN posts receive approximately 10.32 comments on average\n",
    "\n",
    "This shows that Ask HN posts tend to receive more comments than Show HN posts. This makes sense because Ask HN posts are designed to solicit responses from the community, while Show HN posts are more informational or promotional."
   ]
  },
  {
   "cell_type": "code",
   "execution_count": 6,
   "metadata": {},
   "outputs": [
    {
     "name": "stdout",
     "output_type": "stream",
     "text": [
      "Counts by hour (sample): [('09', 45), ('13', 85), ('10', 59), ('14', 107), ('16', 108)]\n",
      "Comments by hour (sample): [('09', 251), ('13', 1253), ('10', 793), ('14', 1416), ('16', 1814)]\n"
     ]
    }
   ],
   "source": [
    "import datetime as dt\n",
    "\n",
    "# Step 1: Create result_list with [created_at, num_comments]\n",
    "result_list = []\n",
    "for post in ask_posts:\n",
    "    created_at = post[6]\n",
    "    num_comments = int(post[4])\n",
    "    result_list.append([created_at, num_comments])\n",
    "\n",
    "# Step 2: Initialize dictionaries\n",
    "counts_by_hour = {}\n",
    "comments_by_hour = {}\n",
    "\n",
    "# Step 3: Loop through result_list to populate dictionaries\n",
    "for row in result_list:\n",
    "    date_str = row[0]  # created_at\n",
    "    comment_count = row[1]\n",
    "\n",
    "    # Convert string to datetime object\n",
    "    dt_obj = dt.datetime.strptime(date_str, \"%m/%d/%Y %H:%M\")\n",
    "\n",
    "    # Extract hour in \"HH\" format\n",
    "    hour = dt_obj.strftime(\"%H\")\n",
    "\n",
    "    # Populate counts_by_hour and comments_by_hour\n",
    "    if hour not in counts_by_hour:\n",
    "        counts_by_hour[hour] = 1\n",
    "        comments_by_hour[hour] = comment_count\n",
    "    else:\n",
    "        counts_by_hour[hour] += 1\n",
    "        comments_by_hour[hour] += comment_count\n",
    "\n",
    "# (Optional) Display the first few entries to verify\n",
    "print(\"Counts by hour (sample):\", list(counts_by_hour.items())[:5])\n",
    "print(\"Comments by hour (sample):\", list(comments_by_hour.items())[:5])"
   ]
  },
  {
   "cell_type": "code",
   "execution_count": 7,
   "metadata": {},
   "outputs": [
    {
     "name": "stdout",
     "output_type": "stream",
     "text": [
      "['09', 5.5777777777777775]\n",
      "['13', 14.741176470588234]\n",
      "['10', 13.440677966101696]\n",
      "['14', 13.233644859813085]\n",
      "['16', 16.796296296296298]\n",
      "['23', 7.985294117647059]\n",
      "['12', 9.41095890410959]\n",
      "['17', 11.46]\n",
      "['15', 38.5948275862069]\n",
      "['21', 16.009174311926607]\n",
      "['20', 21.525]\n",
      "['02', 23.810344827586206]\n",
      "['18', 13.20183486238532]\n",
      "['03', 7.796296296296297]\n",
      "['05', 10.08695652173913]\n",
      "['19', 10.8]\n",
      "['01', 11.383333333333333]\n",
      "['22', 6.746478873239437]\n",
      "['08', 10.25]\n",
      "['04', 7.170212765957447]\n",
      "['00', 8.127272727272727]\n",
      "['06', 9.022727272727273]\n",
      "['07', 7.852941176470588]\n",
      "['11', 11.051724137931034]\n"
     ]
    }
   ],
   "source": [
    "# Create list of [hour, average_comments]\n",
    "avg_by_hour = []\n",
    "\n",
    "for hour in comments_by_hour:\n",
    "    avg_comments = comments_by_hour[hour] / counts_by_hour[hour]\n",
    "    avg_by_hour.append([hour, avg_comments])\n",
    "\n",
    "# Display the results\n",
    "for row in avg_by_hour:\n",
    "    print(row)"
   ]
  },
  {
   "cell_type": "code",
   "execution_count": 8,
   "metadata": {},
   "outputs": [
    {
     "name": "stdout",
     "output_type": "stream",
     "text": [
      "Top 5 Hours for Ask Posts Comments:\n",
      "15:00: 38.59 average comments per post\n",
      "02:00: 23.81 average comments per post\n",
      "20:00: 21.52 average comments per post\n",
      "16:00: 16.80 average comments per post\n",
      "21:00: 16.01 average comments per post\n"
     ]
    }
   ],
   "source": [
    "import datetime as dt\n",
    "\n",
    "# Step 1: Swap columns so average comes first\n",
    "swap_avg_by_hour = []\n",
    "for row in avg_by_hour:\n",
    "    hour = row[0]\n",
    "    avg = row[1]\n",
    "    swap_avg_by_hour.append([avg, hour])\n",
    "\n",
    "# Step 2: Sort the list in descending order of average comments\n",
    "sorted_swap = sorted(swap_avg_by_hour, reverse=True)\n",
    "\n",
    "# Step 3: Print top 5 hours in a readable format\n",
    "print(\"Top 5 Hours for Ask Posts Comments:\")\n",
    "\n",
    "for avg, hour in sorted_swap[:5]:\n",
    "    # Convert hour to datetime object\n",
    "    time_obj = dt.datetime.strptime(hour, \"%H\")\n",
    "    formatted_hour = time_obj.strftime(\"%H:%M\")\n",
    "    print(f\"{formatted_hour}: {avg:.2f} average comments per post\")"
   ]
  },
  {
   "cell_type": "markdown",
   "metadata": {},
   "source": [
    "### Best Hours to Post Ask HN Posts\n",
    "\n",
    "According to our analysis of the Hacker News dataset:\n",
    "\n",
    "- The best time to post an \"Ask HN\" post is at **15:00 (3 PM UTC)**, which gets the **highest average comments**.\n",
    "- Other good times include **02:00, 20:00, 16:00, and 21:00 UTC**.\n",
    "\n",
    "If you're in India (IST), which is **UTC+5:30**, these times convert to:\n",
    "\n",
    "| UTC  | IST (UTC+5:30) |\n",
    "|------|----------------|\n",
    "| 15:00 | 20:30 (8:30 PM) |\n",
    "| 02:00 | 07:30 (7:30 AM) |\n",
    "| 20:00 | 01:30 (next day) |\n",
    "| 16:00 | 21:30 (9:30 PM) |\n",
    "| 21:00 | 02:30 (next day) |\n",
    "\n",
    "This suggests that **evening to late night (IST)** is the most engaging time to post.\n",
    "\n",
    "Posting during these hours may help you get more responses from the community.\n"
   ]
  },
  {
   "cell_type": "code",
   "execution_count": 9,
   "metadata": {},
   "outputs": [
    {
     "name": "stdout",
     "output_type": "stream",
     "text": [
      "Average points on Ask HN posts: 15.06\n",
      "Average points on Show HN posts: 27.56\n"
     ]
    }
   ],
   "source": [
    "# Total points for ask and show posts\n",
    "total_ask_points = 0\n",
    "for post in ask_posts:\n",
    "    total_ask_points += int(post[3])\n",
    "\n",
    "avg_ask_points = total_ask_points / len(ask_posts)\n",
    "print(f\"Average points on Ask HN posts: {avg_ask_points:.2f}\")\n",
    "\n",
    "total_show_points = 0\n",
    "for post in show_posts:\n",
    "    total_show_points += int(post[3])\n",
    "\n",
    "avg_show_points = total_show_points / len(show_posts)\n",
    "print(f\"Average points on Show HN posts: {avg_show_points:.2f}\")"
   ]
  },
  {
   "cell_type": "code",
   "execution_count": 10,
   "metadata": {},
   "outputs": [
    {
     "name": "stdout",
     "output_type": "stream",
     "text": [
      "Top 5 Hours for Ask HN Posts by Points:\n",
      "15:00 - 29.99 average points\n",
      "13:00 - 24.26 average points\n",
      "16:00 - 23.35 average points\n",
      "17:00 - 19.41 average points\n",
      "10:00 - 18.68 average points\n"
     ]
    }
   ],
   "source": [
    "# Create result list for Ask HN: [created_at, num_points]\n",
    "result_points = []\n",
    "for post in ask_posts:\n",
    "    created_at = post[6]\n",
    "    num_points = int(post[3])\n",
    "    result_points.append([created_at, num_points])\n",
    "\n",
    "# Points by hour\n",
    "points_by_hour = {}\n",
    "post_counts_by_hour = {}\n",
    "\n",
    "for row in result_points:\n",
    "    date_str = row[0]\n",
    "    points = row[1]\n",
    "    \n",
    "    dt_obj = dt.datetime.strptime(date_str, \"%m/%d/%Y %H:%M\")\n",
    "    hour = dt_obj.strftime(\"%H\")\n",
    "\n",
    "    if hour not in points_by_hour:\n",
    "        points_by_hour[hour] = points\n",
    "        post_counts_by_hour[hour] = 1\n",
    "    else:\n",
    "        points_by_hour[hour] += points\n",
    "        post_counts_by_hour[hour] += 1\n",
    "\n",
    "# Compute average points by hour\n",
    "avg_points_by_hour = []\n",
    "for hour in points_by_hour:\n",
    "    avg = points_by_hour[hour] / post_counts_by_hour[hour]\n",
    "    avg_points_by_hour.append([hour, avg])\n",
    "\n",
    "# Sort and display\n",
    "sorted_points = sorted([[avg, hour] for hour, avg in avg_points_by_hour], reverse=True)\n",
    "print(\"Top 5 Hours for Ask HN Posts by Points:\")\n",
    "for avg, hour in sorted_points[:5]:\n",
    "    print(f\"{hour}:00 - {avg:.2f} average points\")"
   ]
  },
  {
   "cell_type": "code",
   "execution_count": 11,
   "metadata": {},
   "outputs": [
    {
     "data": {
      "image/png": "[encoded data removed]",
      "text/plain": [
       "<Figure size 1000x600 with 1 Axes>"
      ]
     },
     "metadata": {},
     "output_type": "display_data"
    }
   ],
   "source": [
    "import matplotlib.pyplot as plt\n",
    "\n",
    "# Prepare data for plotting\n",
    "hours = [hour for hour, avg in avg_points_by_hour]\n",
    "avg_points = [avg for hour, avg in avg_points_by_hour]\n",
    "\n",
    "# Sort for better visuals\n",
    "hours_sorted = sorted(avg_points_by_hour, key=lambda x: x[1], reverse=True)\n",
    "sorted_hours = [hour for hour, _ in hours_sorted]\n",
    "sorted_avgs = [avg for _, avg in hours_sorted]\n",
    "\n",
    "# Bar plot\n",
    "plt.figure(figsize=(10,6))\n",
    "plt.bar(sorted_hours, sorted_avgs, color='skyblue')\n",
    "plt.xlabel('Hour of Day (UTC)')\n",
    "plt.ylabel('Average Points')\n",
    "plt.title('Average Ask HN Points by Hour')\n",
    "plt.xticks(rotation=45)\n",
    "plt.grid(axis='y', linestyle='--', alpha=0.7)\n",
    "plt.tight_layout()\n",
    "plt.show()"
   ]
  },
  {
   "cell_type": "markdown",
   "metadata": {},
   "source": [
    "### 🔍 Extra Analysis: Do Ask or Show Posts Get More Upvotes?\n",
    "\n",
    "- **Ask HN posts** get around XX points on average\n",
    "- **Show HN posts** get around XX points on average\n",
    "\n",
    "This suggests that while Ask HN posts get more **comments**, Show HN posts might attract more **upvotes**, likely due to project demos and showcases.\n",
    "\n",
    "### 🕒 Top 5 Hours for Ask HN Posts by Upvotes\n",
    "\n",
    "From our analysis, the top 5 hours to receive the most points are:\n",
    "\n",
    "1. HH:00 – XX points\n",
    "2. HH:00 – XX points\n",
    "3. HH:00 – XX points\n",
    "4. HH:00 – XX points\n",
    "5. HH:00 – XX points\n",
    "\n",
    "### 📊 Visualization: Upvotes by Hour\n",
    "\n",
    "We created a bar chart using Matplotlib to visualize how average points vary by hour. This can help identify the most effective posting time."
   ]
  },
  {
   "cell_type": "code",
   "execution_count": null,
   "metadata": {},
   "outputs": [],
   "source": []
  }
 ],
 "metadata": {
  "kernelspec": {
   "display_name": "Python 3 (ipykernel)",
   "language": "python",
   "name": "python3"
  },
  "language_info": {
   "codemirror_mode": {
    "name": "ipython",
    "version": 3
   },
   "file_extension": ".py",
   "mimetype": "text/x-python",
   "name": "python",
   "nbconvert_exporter": "python",
   "pygments_lexer": "ipython3",
   "version": "3.11.0rc1"
  }
 },
 "nbformat": 4,
 "nbformat_minor": 4
}
